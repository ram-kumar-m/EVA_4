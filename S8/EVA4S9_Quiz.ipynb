{
  "nbformat": 4,
  "nbformat_minor": 0,
  "metadata": {
    "colab": {
      "name": " EVA4S9-Quiz.ipynb",
      "provenance": [],
      "collapsed_sections": [],
      "mount_file_id": "1TMAFVcJSMkNCPCOZ1P7ucK0ue2UzSMa7",
      "authorship_tag": "ABX9TyNt4D8LACwwjz3UM4Czbwyl",
      "include_colab_link": true
    },
    "kernelspec": {
      "name": "python3",
      "display_name": "Python 3"
    },
    "accelerator": "GPU"
  },
  "cells": [
    {
      "cell_type": "markdown",
      "metadata": {
        "id": "view-in-github",
        "colab_type": "text"
      },
      "source": [
        "<a href=\"https://colab.research.google.com/github/ram-kumar-m/EVA_4/blob/master/S8/EVA4S9_Quiz.ipynb\" target=\"_parent\"><img src=\"https://colab.research.google.com/assets/colab-badge.svg\" alt=\"Open In Colab\"/></a>"
      ]
    },
    {
      "cell_type": "code",
      "metadata": {
        "id": "b2_xmFW_FK-k",
        "colab_type": "code",
        "colab": {}
      },
      "source": [
        "import sys\n",
        "sys.path.append('/content/drive/My Drive/Colab Notebooks/eva4/S8/')"
      ],
      "execution_count": 0,
      "outputs": []
    },
    {
      "cell_type": "code",
      "metadata": {
        "id": "5-4LgXWpFj6b",
        "colab_type": "code",
        "colab": {}
      },
      "source": [
        "from train_test import train, test\n",
        "from utilities import set_cuda, print_model_summary\n",
        "from dataset import Dataset"
      ],
      "execution_count": 0,
      "outputs": []
    },
    {
      "cell_type": "code",
      "metadata": {
        "id": "wpQkcoQRlL9G",
        "colab_type": "code",
        "colab": {}
      },
      "source": [
        "from datetime import datetime"
      ],
      "execution_count": 0,
      "outputs": []
    },
    {
      "cell_type": "code",
      "metadata": {
        "id": "s67_06cmlQPa",
        "colab_type": "code",
        "colab": {
          "base_uri": "https://localhost:8080/",
          "height": 52
        },
        "outputId": "26002669-c81f-49ea-ae45-00cbace1ca51"
      },
      "source": [
        "print(\"Current Date/Time: \", datetime.now())\n",
        "print('Current utc :',datetime.utcnow())"
      ],
      "execution_count": 4,
      "outputs": [
        {
          "output_type": "stream",
          "text": [
            "Current Date/Time:  2020-03-20 02:33:35.622594\n",
            "Current utc : 2020-03-20 02:33:35.624909\n"
          ],
          "name": "stdout"
        }
      ]
    },
    {
      "cell_type": "code",
      "metadata": {
        "id": "2V98uBHwYg8-",
        "colab_type": "code",
        "colab": {}
      },
      "source": [
        "import torchvision.transforms as transforms\n",
        "\n",
        "train_transforms = transforms.Compose([transforms.RandomRotation(15),\n",
        "                                       transforms.RandomResizedCrop(32, scale=(0.8, 1.0)),\n",
        "                                       transforms.RandomHorizontalFlip(),\n",
        "                                       transforms.ToTensor(),\n",
        "                                       transforms.Normalize((0.4914, 0.4822, 0.4465), (0.2471, 0.2435, 0.2616))])\n",
        "\n",
        "test_transforms = transforms.Compose([transforms.ToTensor(),\n",
        "                                      transforms.Normalize((0.4914, 0.4822, 0.4465), (0.2471, 0.2435, 0.2616))])"
      ],
      "execution_count": 0,
      "outputs": []
    },
    {
      "cell_type": "code",
      "metadata": {
        "id": "lNfwcjwzWCm0",
        "colab_type": "code",
        "outputId": "3fd26e59-0e41-4a3e-a9d9-c12420ad5a2e",
        "colab": {
          "base_uri": "https://localhost:8080/",
          "height": 52
        }
      },
      "source": [
        "Data = Dataset(train_transforms, test_transforms)\n",
        "trainset = Data.set_dataset(train = True)\n",
        "testset = Data.set_dataset(train = False)"
      ],
      "execution_count": 6,
      "outputs": [
        {
          "output_type": "stream",
          "text": [
            "Files already downloaded and verified\n",
            "Files already downloaded and verified\n"
          ],
          "name": "stdout"
        }
      ]
    },
    {
      "cell_type": "code",
      "metadata": {
        "id": "n6g3C-la1C7I",
        "colab_type": "code",
        "outputId": "96407112-88f4-4996-e35c-72b022068c69",
        "colab": {
          "base_uri": "https://localhost:8080/",
          "height": 35
        }
      },
      "source": [
        "len(testset)"
      ],
      "execution_count": 7,
      "outputs": [
        {
          "output_type": "execute_result",
          "data": {
            "text/plain": [
              "10000"
            ]
          },
          "metadata": {
            "tags": []
          },
          "execution_count": 7
        }
      ]
    },
    {
      "cell_type": "code",
      "metadata": {
        "id": "7vlhv1TVWmnW",
        "colab_type": "code",
        "colab": {}
      },
      "source": [
        "train_loader = Data.get_dataset(trainset)\n",
        "test_loader = Data.get_dataset(testset)"
      ],
      "execution_count": 0,
      "outputs": []
    },
    {
      "cell_type": "code",
      "metadata": {
        "id": "JsmdiO5DZrX9",
        "colab_type": "code",
        "colab": {}
      },
      "source": [
        "device = set_cuda()"
      ],
      "execution_count": 0,
      "outputs": []
    },
    {
      "cell_type": "code",
      "metadata": {
        "id": "_WRZ_CvQ5a_C",
        "colab_type": "code",
        "colab": {}
      },
      "source": [
        "from models.QuizDNN import Net"
      ],
      "execution_count": 0,
      "outputs": []
    },
    {
      "cell_type": "code",
      "metadata": {
        "id": "FW77YIiM5ilU",
        "colab_type": "code",
        "colab": {}
      },
      "source": [
        "model_class = Net()"
      ],
      "execution_count": 0,
      "outputs": []
    },
    {
      "cell_type": "code",
      "metadata": {
        "id": "pMeKzXgUgyg1",
        "colab_type": "code",
        "outputId": "c9faceb5-d2de-49b6-d622-af0f04d8e7d3",
        "colab": {
          "base_uri": "https://localhost:8080/",
          "height": 955
        }
      },
      "source": [
        "print_model_summary(model_class,input_size = (3,32,32))"
      ],
      "execution_count": 20,
      "outputs": [
        {
          "output_type": "stream",
          "text": [
            "cuda\n",
            "----------------------------------------------------------------\n",
            "        Layer (type)               Output Shape         Param #\n",
            "================================================================\n",
            "            Conv2d-1           [-1, 16, 32, 32]             432\n",
            "              ReLU-2           [-1, 16, 32, 32]               0\n",
            "       BatchNorm2d-3           [-1, 16, 32, 32]              32\n",
            "           Dropout-4           [-1, 16, 32, 32]               0\n",
            "            Conv2d-5           [-1, 32, 32, 32]           4,608\n",
            "              ReLU-6           [-1, 32, 32, 32]               0\n",
            "       BatchNorm2d-7           [-1, 32, 32, 32]              64\n",
            "           Dropout-8           [-1, 32, 32, 32]               0\n",
            "            Conv2d-9           [-1, 32, 32, 32]           9,216\n",
            "             ReLU-10           [-1, 32, 32, 32]               0\n",
            "      BatchNorm2d-11           [-1, 32, 32, 32]              64\n",
            "          Dropout-12           [-1, 32, 32, 32]               0\n",
            "        MaxPool2d-13           [-1, 32, 16, 16]               0\n",
            "           Conv2d-14           [-1, 64, 16, 16]          18,432\n",
            "             ReLU-15           [-1, 64, 16, 16]               0\n",
            "      BatchNorm2d-16           [-1, 64, 16, 16]             128\n",
            "          Dropout-17           [-1, 64, 16, 16]               0\n",
            "           Conv2d-18           [-1, 64, 16, 16]          36,864\n",
            "             ReLU-19           [-1, 64, 16, 16]               0\n",
            "      BatchNorm2d-20           [-1, 64, 16, 16]             128\n",
            "          Dropout-21           [-1, 64, 16, 16]               0\n",
            "           Conv2d-22           [-1, 64, 16, 16]          36,864\n",
            "             ReLU-23           [-1, 64, 16, 16]               0\n",
            "      BatchNorm2d-24           [-1, 64, 16, 16]             128\n",
            "        MaxPool2d-25             [-1, 64, 8, 8]               0\n",
            "           Conv2d-26            [-1, 128, 8, 8]          73,728\n",
            "             ReLU-27            [-1, 128, 8, 8]               0\n",
            "      BatchNorm2d-28            [-1, 128, 8, 8]             256\n",
            "          Dropout-29            [-1, 128, 8, 8]               0\n",
            "           Conv2d-30            [-1, 128, 8, 8]         147,456\n",
            "             ReLU-31            [-1, 128, 8, 8]               0\n",
            "      BatchNorm2d-32            [-1, 128, 8, 8]             256\n",
            "          Dropout-33            [-1, 128, 8, 8]               0\n",
            "           Conv2d-34            [-1, 128, 8, 8]         147,456\n",
            "             ReLU-35            [-1, 128, 8, 8]               0\n",
            "      BatchNorm2d-36            [-1, 128, 8, 8]             256\n",
            "AdaptiveAvgPool2d-37            [-1, 128, 1, 1]               0\n",
            "           Linear-38                   [-1, 10]           1,290\n",
            "================================================================\n",
            "Total params: 477,658\n",
            "Trainable params: 477,658\n",
            "Non-trainable params: 0\n",
            "----------------------------------------------------------------\n",
            "Input size (MB): 0.01\n",
            "Forward/backward pass size (MB): 4.66\n",
            "Params size (MB): 1.82\n",
            "Estimated Total Size (MB): 6.49\n",
            "----------------------------------------------------------------\n",
            "None\n"
          ],
          "name": "stdout"
        }
      ]
    },
    {
      "cell_type": "code",
      "metadata": {
        "id": "HaO--aXog2Sn",
        "colab_type": "code",
        "colab": {}
      },
      "source": [
        "from torch import optim\n",
        "model =  model_class.to(device)\n",
        "optimizer = optim.SGD(model.parameters(), lr=.01, momentum=0.9)"
      ],
      "execution_count": 0,
      "outputs": []
    },
    {
      "cell_type": "code",
      "metadata": {
        "id": "exCZyhcshiIP",
        "colab_type": "code",
        "outputId": "08507fa6-bb45-4577-9d4f-3e104c2e9bf2",
        "colab": {
          "base_uri": "https://localhost:8080/",
          "height": 1000
        }
      },
      "source": [
        "EPOCHS = 20\n",
        "for epoch in range(EPOCHS):\n",
        "    print(\"EPOCH:\", epoch)\n",
        "    train(model, device, train_loader, optimizer, epoch)\n",
        "    # scheduler.step()\n",
        "    test(model, device, test_loader)"
      ],
      "execution_count": 15,
      "outputs": [
        {
          "output_type": "stream",
          "text": [
            "\r  0%|          | 0/391 [00:00<?, ?it/s]"
          ],
          "name": "stderr"
        },
        {
          "output_type": "stream",
          "text": [
            "EPOCH: 0\n"
          ],
          "name": "stdout"
        },
        {
          "output_type": "stream",
          "text": [
            "Loss=1.2152674198150635 Batch_id=390 Accuracy=47.06: 100%|██████████| 391/391 [00:20<00:00, 19.26it/s]\n",
            "  0%|          | 0/391 [00:00<?, ?it/s]"
          ],
          "name": "stderr"
        },
        {
          "output_type": "stream",
          "text": [
            "\n",
            "Test set: Average loss: 0.0087, Accuracy: 6013/10000 (60.13%)\n",
            "\n",
            "EPOCH: 1\n"
          ],
          "name": "stdout"
        },
        {
          "output_type": "stream",
          "text": [
            "Loss=0.9230159521102905 Batch_id=390 Accuracy=61.82: 100%|██████████| 391/391 [00:20<00:00, 19.04it/s]\n",
            "  0%|          | 0/391 [00:00<?, ?it/s]"
          ],
          "name": "stderr"
        },
        {
          "output_type": "stream",
          "text": [
            "\n",
            "Test set: Average loss: 0.0074, Accuracy: 6760/10000 (67.60%)\n",
            "\n",
            "EPOCH: 2\n"
          ],
          "name": "stdout"
        },
        {
          "output_type": "stream",
          "text": [
            "Loss=0.8008675575256348 Batch_id=390 Accuracy=68.34: 100%|██████████| 391/391 [00:20<00:00, 19.11it/s]\n",
            "  0%|          | 0/391 [00:00<?, ?it/s]"
          ],
          "name": "stderr"
        },
        {
          "output_type": "stream",
          "text": [
            "\n",
            "Test set: Average loss: 0.0062, Accuracy: 7247/10000 (72.47%)\n",
            "\n",
            "EPOCH: 3\n"
          ],
          "name": "stdout"
        },
        {
          "output_type": "stream",
          "text": [
            "Loss=0.8552240133285522 Batch_id=390 Accuracy=72.01: 100%|██████████| 391/391 [00:20<00:00, 19.13it/s]\n",
            "  0%|          | 0/391 [00:00<?, ?it/s]"
          ],
          "name": "stderr"
        },
        {
          "output_type": "stream",
          "text": [
            "\n",
            "Test set: Average loss: 0.0052, Accuracy: 7693/10000 (76.93%)\n",
            "\n",
            "EPOCH: 4\n"
          ],
          "name": "stdout"
        },
        {
          "output_type": "stream",
          "text": [
            "Loss=0.7881448268890381 Batch_id=390 Accuracy=74.53: 100%|██████████| 391/391 [00:20<00:00, 19.04it/s]\n",
            "  0%|          | 0/391 [00:00<?, ?it/s]"
          ],
          "name": "stderr"
        },
        {
          "output_type": "stream",
          "text": [
            "\n",
            "Test set: Average loss: 0.0050, Accuracy: 7815/10000 (78.15%)\n",
            "\n",
            "EPOCH: 5\n"
          ],
          "name": "stdout"
        },
        {
          "output_type": "stream",
          "text": [
            "Loss=0.8489556312561035 Batch_id=390 Accuracy=76.18: 100%|██████████| 391/391 [00:20<00:00, 19.07it/s]\n",
            "  0%|          | 0/391 [00:00<?, ?it/s]"
          ],
          "name": "stderr"
        },
        {
          "output_type": "stream",
          "text": [
            "\n",
            "Test set: Average loss: 0.0051, Accuracy: 7799/10000 (77.99%)\n",
            "\n",
            "EPOCH: 6\n"
          ],
          "name": "stdout"
        },
        {
          "output_type": "stream",
          "text": [
            "Loss=0.6746048927307129 Batch_id=390 Accuracy=77.66: 100%|██████████| 391/391 [00:20<00:00, 19.14it/s]\n",
            "  0%|          | 0/391 [00:00<?, ?it/s]"
          ],
          "name": "stderr"
        },
        {
          "output_type": "stream",
          "text": [
            "\n",
            "Test set: Average loss: 0.0045, Accuracy: 8040/10000 (80.40%)\n",
            "\n",
            "EPOCH: 7\n"
          ],
          "name": "stdout"
        },
        {
          "output_type": "stream",
          "text": [
            "Loss=0.6570581793785095 Batch_id=390 Accuracy=78.67: 100%|██████████| 391/391 [00:20<00:00, 18.99it/s]\n",
            "  0%|          | 0/391 [00:00<?, ?it/s]"
          ],
          "name": "stderr"
        },
        {
          "output_type": "stream",
          "text": [
            "\n",
            "Test set: Average loss: 0.0043, Accuracy: 8135/10000 (81.35%)\n",
            "\n",
            "EPOCH: 8\n"
          ],
          "name": "stdout"
        },
        {
          "output_type": "stream",
          "text": [
            "Loss=0.5066582560539246 Batch_id=390 Accuracy=79.62: 100%|██████████| 391/391 [00:20<00:00, 19.07it/s]\n",
            "  0%|          | 0/391 [00:00<?, ?it/s]"
          ],
          "name": "stderr"
        },
        {
          "output_type": "stream",
          "text": [
            "\n",
            "Test set: Average loss: 0.0042, Accuracy: 8218/10000 (82.18%)\n",
            "\n",
            "EPOCH: 9\n"
          ],
          "name": "stdout"
        },
        {
          "output_type": "stream",
          "text": [
            "Loss=0.5801601409912109 Batch_id=390 Accuracy=80.56: 100%|██████████| 391/391 [00:21<00:00, 18.57it/s]\n",
            "  0%|          | 0/391 [00:00<?, ?it/s]"
          ],
          "name": "stderr"
        },
        {
          "output_type": "stream",
          "text": [
            "\n",
            "Test set: Average loss: 0.0043, Accuracy: 8169/10000 (81.69%)\n",
            "\n",
            "EPOCH: 10\n"
          ],
          "name": "stdout"
        },
        {
          "output_type": "stream",
          "text": [
            "Loss=0.49235162138938904 Batch_id=390 Accuracy=81.33: 100%|██████████| 391/391 [00:20<00:00, 18.74it/s]\n",
            "  0%|          | 0/391 [00:00<?, ?it/s]"
          ],
          "name": "stderr"
        },
        {
          "output_type": "stream",
          "text": [
            "\n",
            "Test set: Average loss: 0.0039, Accuracy: 8299/10000 (82.99%)\n",
            "\n",
            "EPOCH: 11\n"
          ],
          "name": "stdout"
        },
        {
          "output_type": "stream",
          "text": [
            "Loss=0.508612871170044 Batch_id=390 Accuracy=81.82: 100%|██████████| 391/391 [00:20<00:00, 18.84it/s]\n",
            "  0%|          | 0/391 [00:00<?, ?it/s]"
          ],
          "name": "stderr"
        },
        {
          "output_type": "stream",
          "text": [
            "\n",
            "Test set: Average loss: 0.0040, Accuracy: 8279/10000 (82.79%)\n",
            "\n",
            "EPOCH: 12\n"
          ],
          "name": "stdout"
        },
        {
          "output_type": "stream",
          "text": [
            "Loss=0.5395941138267517 Batch_id=390 Accuracy=82.10: 100%|██████████| 391/391 [00:20<00:00, 18.85it/s]\n",
            "  0%|          | 0/391 [00:00<?, ?it/s]"
          ],
          "name": "stderr"
        },
        {
          "output_type": "stream",
          "text": [
            "\n",
            "Test set: Average loss: 0.0038, Accuracy: 8360/10000 (83.60%)\n",
            "\n",
            "EPOCH: 13\n"
          ],
          "name": "stdout"
        },
        {
          "output_type": "stream",
          "text": [
            "Loss=0.3439698815345764 Batch_id=390 Accuracy=82.95: 100%|██████████| 391/391 [00:20<00:00, 18.86it/s]\n",
            "  0%|          | 0/391 [00:00<?, ?it/s]"
          ],
          "name": "stderr"
        },
        {
          "output_type": "stream",
          "text": [
            "\n",
            "Test set: Average loss: 0.0042, Accuracy: 8196/10000 (81.96%)\n",
            "\n",
            "EPOCH: 14\n"
          ],
          "name": "stdout"
        },
        {
          "output_type": "stream",
          "text": [
            "Loss=0.44883137941360474 Batch_id=390 Accuracy=83.23: 100%|██████████| 391/391 [00:20<00:00, 18.74it/s]\n",
            "  0%|          | 0/391 [00:00<?, ?it/s]"
          ],
          "name": "stderr"
        },
        {
          "output_type": "stream",
          "text": [
            "\n",
            "Test set: Average loss: 0.0037, Accuracy: 8456/10000 (84.56%)\n",
            "\n",
            "EPOCH: 15\n"
          ],
          "name": "stdout"
        },
        {
          "output_type": "stream",
          "text": [
            "Loss=0.41211462020874023 Batch_id=390 Accuracy=83.84: 100%|██████████| 391/391 [00:20<00:00, 18.77it/s]\n",
            "  0%|          | 0/391 [00:00<?, ?it/s]"
          ],
          "name": "stderr"
        },
        {
          "output_type": "stream",
          "text": [
            "\n",
            "Test set: Average loss: 0.0035, Accuracy: 8494/10000 (84.94%)\n",
            "\n",
            "EPOCH: 16\n"
          ],
          "name": "stdout"
        },
        {
          "output_type": "stream",
          "text": [
            "Loss=0.540328860282898 Batch_id=390 Accuracy=84.07: 100%|██████████| 391/391 [00:20<00:00, 18.74it/s]\n",
            "  0%|          | 0/391 [00:00<?, ?it/s]"
          ],
          "name": "stderr"
        },
        {
          "output_type": "stream",
          "text": [
            "\n",
            "Test set: Average loss: 0.0034, Accuracy: 8590/10000 (85.90%)\n",
            "\n",
            "EPOCH: 17\n"
          ],
          "name": "stdout"
        },
        {
          "output_type": "stream",
          "text": [
            "Loss=0.8441896438598633 Batch_id=390 Accuracy=84.40: 100%|██████████| 391/391 [00:20<00:00, 18.72it/s]\n",
            "  0%|          | 0/391 [00:00<?, ?it/s]"
          ],
          "name": "stderr"
        },
        {
          "output_type": "stream",
          "text": [
            "\n",
            "Test set: Average loss: 0.0034, Accuracy: 8538/10000 (85.38%)\n",
            "\n",
            "EPOCH: 18\n"
          ],
          "name": "stdout"
        },
        {
          "output_type": "stream",
          "text": [
            "Loss=0.6560316681861877 Batch_id=390 Accuracy=84.82: 100%|██████████| 391/391 [00:20<00:00, 18.65it/s]\n",
            "  0%|          | 0/391 [00:00<?, ?it/s]"
          ],
          "name": "stderr"
        },
        {
          "output_type": "stream",
          "text": [
            "\n",
            "Test set: Average loss: 0.0033, Accuracy: 8590/10000 (85.90%)\n",
            "\n",
            "EPOCH: 19\n"
          ],
          "name": "stdout"
        },
        {
          "output_type": "stream",
          "text": [
            "Loss=0.456582635641098 Batch_id=390 Accuracy=85.11: 100%|██████████| 391/391 [00:21<00:00, 18.60it/s]\n"
          ],
          "name": "stderr"
        },
        {
          "output_type": "stream",
          "text": [
            "\n",
            "Test set: Average loss: 0.0032, Accuracy: 8587/10000 (85.87%)\n",
            "\n"
          ],
          "name": "stdout"
        }
      ]
    },
    {
      "cell_type": "code",
      "metadata": {
        "id": "eI2Gkp3TgkxS",
        "colab_type": "code",
        "colab": {}
      },
      "source": [
        "import torch.nn.functional as F\n",
        "\n",
        "class Net(nn.Module):\n",
        "    def __init__(self):\n",
        "        super(Net, self).__init__()\n",
        "\n",
        "        self.convblock1 = nn.Sequential(\n",
        "            nn.Conv2d(in_channels=3, out_channels=32, kernel_size=(3, 3), padding=1, bias=False),\n",
        "            nn.BatchNorm2d(32),\n",
        "            nn.ReLU(),\n",
        "            nn.Dropout(0.2),\n",
        "        ) # output_size = 32, RF 3\n",
        "        self.convblock2 = nn.Sequential(\n",
        "            nn.Conv2d(in_channels=32, out_channels=32, kernel_size=(3, 3), padding=1, bias=False),\n",
        "            nn.BatchNorm2d(32),\n",
        "            nn.ReLU(),\n",
        "            nn.Dropout(0.2),\n",
        "        ) # output_size = 32, RF 5\n",
        "        self.convblock3 = nn.Sequential(\n",
        "            nn.Conv2d(in_channels=32, out_channels=32, kernel_size=(3, 3), padding=2, dilation=2, bias=False),\n",
        "            nn.BatchNorm2d(32),\n",
        "            nn.ReLU(),\n",
        "            nn.Dropout(0.2),\n",
        "        ) # output_size = 32, RF 9\n",
        "        self.pool = nn.MaxPool2d(kernel_size=2, stride=2)\n",
        "         # output_size = 16, RF 10\n",
        "        self.convblock4 = nn.Sequential(\n",
        "            nn.Conv2d(in_channels=32, out_channels=64, kernel_size=(3, 3), padding=2, dilation = 2,  bias=False),\n",
        "            nn.BatchNorm2d(64),\n",
        "            nn.ReLU(),\n",
        "            nn.Dropout(0.2),\n",
        "        ) # output_size = 16, RF 18\n",
        "        self.convblock5 = nn.Sequential(\n",
        "            nn.Conv2d(in_channels=64, out_channels=64, kernel_size=(3, 3), padding=2, dilation=2,  bias=False),\n",
        "            nn.BatchNorm2d(64),\n",
        "            nn.ReLU(),\n",
        "            nn.Dropout(0.2),\n",
        "        ) # output_size = 16, RF 26\n",
        "        self.convblock5_ = nn.Sequential(\n",
        "            nn.Conv2d(in_channels=64, out_channels=128, kernel_size=(3, 3), padding=2, dilation=2,  bias=False),\n",
        "            nn.BatchNorm2d(64),\n",
        "            nn.ReLU(),\n",
        "            nn.Dropout(0.2),\n",
        "        ) # output_size = 16, RF 30\n",
        "        self.pool1 = nn.MaxPool2d(kernel_size=2, stride=2)\n",
        "        # output_size = 8, RF 32\n",
        "        self.convblock6 = nn.Sequential(\n",
        "            (64, 128),\n",
        "            nn.BatchNorm2d(128),\n",
        "            nn.ReLU(),\n",
        "            nn.Dropout(0.25),\n",
        "        ) # output_size = 8, RF 40\n",
        "        self.convblock7 = nn.Sequential(\n",
        "            nn.Conv2d(in_channels=128, out_channels=128, kernel_size=(3, 3), padding=2, dilation=2,  bias=False),\n",
        "            nn.BatchNorm2d(128),\n",
        "            nn.ReLU(),\n",
        "            nn.Dropout(0.25),\n",
        "        ) # output_size = 8, RF 56\n",
        "        self.gap = nn.Sequential(\n",
        "            nn.AvgPool2d(kernel_size=8)\n",
        "        ) # output_size = 1\n",
        "        self.fc1 = nn.Sequential(nn.Linear(128, 10))\n",
        "        #self.fc2 = nn.Linear(64, 10)\n",
        "\n",
        "    def forward(self, x):\n",
        "        x = self.convblock1(x) #3\n",
        "        x = self.convblock2(x) #5\n",
        "        x = self.convblock3(x) #9\n",
        "        x = self.pool(x) #10\n",
        "        x = self.convblock4(x) #18\n",
        "        x = self.convblock5(x) #26\n",
        "        x = self.convblock5_(x) #26\n",
        "        x = self.pool1(x) #28\n",
        "        x = self.convblock6(x) #52\n",
        "        x = self.convblock7(x) #44\n",
        "        x = self.gap(x)\n",
        "        x = x.view(-1, 128)\n",
        "\n",
        "        x = (self.fc1(x))\n",
        "        #x = (self.fc2(x))\n",
        "        return x"
      ],
      "execution_count": 0,
      "outputs": []
    },
    {
      "cell_type": "code",
      "metadata": {
        "id": "wuJ5ULZakLWf",
        "colab_type": "code",
        "colab": {
          "base_uri": "https://localhost:8080/",
          "height": 52
        },
        "outputId": "9531a5e8-1697-421c-d074-c70d13adc39d"
      },
      "source": [
        "print(\"Current Date/Time: \", datetime.now())\n",
        "print('Current utc :',datetime.utcnow())"
      ],
      "execution_count": 21,
      "outputs": [
        {
          "output_type": "stream",
          "text": [
            "Current Date/Time:  2020-03-20 03:15:53.798918\n",
            "Current utc : 2020-03-20 03:15:53.800663\n"
          ],
          "name": "stdout"
        }
      ]
    },
    {
      "cell_type": "code",
      "metadata": {
        "id": "gS4vGDvq8KRI",
        "colab_type": "code",
        "colab": {}
      },
      "source": [
        ""
      ],
      "execution_count": 0,
      "outputs": []
    }
  ]
}